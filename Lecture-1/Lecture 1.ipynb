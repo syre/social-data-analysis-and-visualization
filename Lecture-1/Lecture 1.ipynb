{
 "metadata": {
  "name": "",
  "signature": "sha256:291d97440d7701f98ddd9fd462e7c4acbb1d7e8064469162cbc2f39ff2ea0b17"
 },
 "nbformat": 3,
 "nbformat_minor": 0,
 "worksheets": [
  {
   "cells": [
    {
     "cell_type": "markdown",
     "metadata": {},
     "source": [
      "##Exercise 1B"
     ]
    },
    {
     "cell_type": "markdown",
     "metadata": {},
     "source": [
      "####Create a list a that contains the numbers from 1 to 100, incremented by one, using the range function."
     ]
    },
    {
     "cell_type": "code",
     "collapsed": false,
     "input": [
      "a = range(1,101)\n",
      "print(a)"
     ],
     "language": "python",
     "metadata": {},
     "outputs": [
      {
       "output_type": "stream",
       "stream": "stdout",
       "text": [
        "[1, 2, 3, 4, 5, 6, 7, 8, 9, 10, 11, 12, 13, 14, 15, 16, 17, 18, 19, 20, 21, 22, 23, 24, 25, 26, 27, 28, 29, 30, 31, 32, 33, 34, 35, 36, 37, 38, 39, 40, 41, 42, 43, 44, 45, 46, 47, 48, 49, 50, 51, 52, 53, 54, 55, 56, 57, 58, 59, 60, 61, 62, 63, 64, 65, 66, 67, 68, 69, 70, 71, 72, 73, 74, 75, 76, 77, 78, 79, 80, 81, 82, 83, 84, 85, 86, 87, 88, 89, 90, 91, 92, 93, 94, 95, 96, 97, 98, 99, 100]\n"
       ]
      }
     ],
     "prompt_number": 2
    },
    {
     "cell_type": "markdown",
     "metadata": {},
     "source": [
      "####Show that you understand slicing in Python by extracting a list b with the numbers from 42 to 79 from the list created above."
     ]
    },
    {
     "cell_type": "code",
     "collapsed": false,
     "input": [
      "b = a[41:79]\n",
      "print(b)"
     ],
     "language": "python",
     "metadata": {},
     "outputs": [
      {
       "output_type": "stream",
       "stream": "stdout",
       "text": [
        "[42, 43, 44, 45, 46, 47, 48, 49, 50, 51, 52, 53, 54, 55, 56, 57, 58, 59, 60, 61, 62, 63, 64, 65, 66, 67, 68, 69, 70, 71, 72, 73, 74, 75, 76, 77, 78, 79]\n"
       ]
      }
     ],
     "prompt_number": 4
    },
    {
     "cell_type": "markdown",
     "metadata": {},
     "source": [
      "####Using def, define a function that takes as input a number x and outputs the number multiplied by itself plus two f(x) = x(x+2). Apply this function to every element of the list b using a for loop."
     ]
    },
    {
     "cell_type": "code",
     "collapsed": false,
     "input": [
      "def multiply(x):\n",
      "    print(x*(x+2))\n",
      "for item in b:\n",
      "    multiply(el)"
     ],
     "language": "python",
     "metadata": {},
     "outputs": [
      {
       "output_type": "stream",
       "stream": "stdout",
       "text": [
        "1848\n",
        "1935\n",
        "2024\n",
        "2115\n",
        "2208\n",
        "2303\n",
        "2400\n",
        "2499\n",
        "2600\n",
        "2703\n",
        "2808\n",
        "2915\n",
        "3024\n",
        "3135\n",
        "3248\n",
        "3363\n",
        "3480\n",
        "3599\n",
        "3720\n",
        "3843\n",
        "3968\n",
        "4095\n",
        "4224\n",
        "4355\n",
        "4488\n",
        "4623\n",
        "4760\n",
        "4899\n",
        "5040\n",
        "5183\n",
        "5328\n",
        "5475\n",
        "5624\n",
        "5775\n",
        "5928\n",
        "6083\n",
        "6240\n",
        "6399\n"
       ]
      }
     ],
     "prompt_number": 8
    },
    {
     "cell_type": "markdown",
     "metadata": {},
     "source": [
      "####Write the output of your function to a text file with one number per line."
     ]
    },
    {
     "cell_type": "code",
     "collapsed": false,
     "input": [
      "with open(\"test.txt\",\"w+\") as f:\n",
      "    for item in b:\n",
      "        f.write(\"%s\\n\" % multiply(el))"
     ],
     "language": "python",
     "metadata": {},
     "outputs": [
      {
       "output_type": "stream",
       "stream": "stdout",
       "text": [
        "6399\n",
        "6399\n",
        "6399\n",
        "6399\n",
        "6399\n",
        "6399\n",
        "6399\n",
        "6399\n",
        "6399\n",
        "6399\n",
        "6399\n",
        "6399\n",
        "6399\n",
        "6399\n",
        "6399\n",
        "6399\n",
        "6399\n",
        "6399\n",
        "6399\n",
        "6399\n",
        "6399\n",
        "6399\n",
        "6399\n",
        "6399\n",
        "6399\n",
        "6399\n",
        "6399\n",
        "6399\n",
        "6399\n",
        "6399\n",
        "6399\n",
        "6399\n",
        "6399\n",
        "6399\n",
        "6399\n",
        "6399\n",
        "6399\n",
        "6399\n"
       ]
      }
     ],
     "prompt_number": 14
    },
    {
     "cell_type": "markdown",
     "metadata": {},
     "source": [
      "####Show that you know about strings typing and understanding everything in the example "
     ]
    },
    {
     "cell_type": "code",
     "collapsed": false,
     "input": [
      "x = \"There are %d types of people.\" % 10\n",
      "binary = \"binary\"\n",
      "do_not = \"don't\"\n",
      "y = \"Those who know %s and those who %s.\" % (binary, do_not)\n",
      "\n",
      "print x\n",
      "print y\n",
      "\n",
      "print \"I said: %r.\" % x\n",
      "print \"I also said: '%s'.\" % y\n",
      "\n",
      "hilarious = False\n",
      "joke_evaluation = \"Isn't that joke so funny?! %r\"\n",
      "\n",
      "print joke_evaluation % hilarious\n",
      "\n",
      "w = \"This is the left side of...\"\n",
      "e = \"a string with a right side.\"\n",
      "\n",
      "print w + e"
     ],
     "language": "python",
     "metadata": {},
     "outputs": [
      {
       "output_type": "stream",
       "stream": "stdout",
       "text": [
        "There are 10 types of people.\n",
        "Those who know binary and those who don't.\n",
        "I said: 'There are 10 types of people.'.\n",
        "I also said: 'Those who know binary and those who don't.'.\n",
        "Isn't that joke so funny?! False\n",
        "This is the left side of...a string with a right side.\n"
       ]
      }
     ],
     "prompt_number": 15
    },
    {
     "cell_type": "markdown",
     "metadata": {},
     "source": [
      "####How do you link to another Wikipedia page from within a wiki-page, using the wikimedia markup? Write down a simple example of how links work (inside the IPython Notebook)."
     ]
    },
    {
     "cell_type": "markdown",
     "metadata": {},
     "source": [
      "Internal links work by enclosing the page in double square brackets. Spaces in links will be converted to underscores. \n",
      "For example [[Link example]] would link to http://www.mediawiki.org/wiki/Link_example in the media wiki.\n",
      "\n",
      "You can use piped links which allows you to specify your own text in place of the link text, like: [[Main Page|Click here to go to the main page]]\n",
      "\n",
      "You can also use anchors which can link to certain paragraphs on a page.\n",
      "like [[Help:Images#Supported media types for images]] Which would link to the page Help:Images and the paragraph Supported media types for images."
     ]
    },
    {
     "cell_type": "markdown",
     "metadata": {},
     "source": [
      "####Can you create a simple table with the same content as the one below, using wikimedia markup? Write the table inside the Notebook."
     ]
    },
    {
     "cell_type": "markdown",
     "metadata": {},
     "source": [
      "For creating the styling the class=\"wikitable\" attribute should be used:\n",
      "\n",
      "{| class=\"wikitable\"\n",
      "| True Positive\n",
      "| False Positive\n",
      "| -\n",
      "| True Negative\n",
      "| False Negative \n",
      "|}"
     ]
    },
    {
     "cell_type": "markdown",
     "metadata": {},
     "source": [
      "####What is the API address that collects the wikimedia markup that generates the page http://en.wikipedia.org/wiki/Batman"
     ]
    },
    {
     "cell_type": "markdown",
     "metadata": {},
     "source": [
      "The API address is:\n",
      "    \n",
      "    \n",
      "http://en.wikipedia.org/w/api.php?&action=query&titles=Batman&prop=revisions&rvprop=content&format=txt\n",
      "\n",
      "titles=Batman states we want to get the page for Batman.\n",
      "\n",
      "the action query states we want to receive the data.\n",
      "\n",
      "prop=revisions states we want the latest revision\n",
      "\n",
      "rvprop=content states we want the content, other values can be the user.\n",
      "\n",
      "format=txt states we want the regular text format, however it is deprecated and json can be used instead.\n"
     ]
    },
    {
     "cell_type": "markdown",
     "metadata": {},
     "source": [
      "#### Using using Python, download the markup, using the module urllib2 and write the content to the file batman.txt"
     ]
    },
    {
     "cell_type": "code",
     "collapsed": false,
     "input": [
      "import urllib2\n",
      "response = urllib2.urlopen('http://en.wikipedia.org/w/api.php?&action=query&titles=Batman&prop=revisions&rvprop=content&format=txt')\n",
      "html = response.read()\n",
      "with open(\"batman.txt\",\"w+\") as f:\n",
      "    f.write(html)\n"
     ],
     "language": "python",
     "metadata": {},
     "outputs": [],
     "prompt_number": 1
    },
    {
     "cell_type": "code",
     "collapsed": false,
     "input": [],
     "language": "python",
     "metadata": {},
     "outputs": []
    }
   ],
   "metadata": {}
  }
 ]
}